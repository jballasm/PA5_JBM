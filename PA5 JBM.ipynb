{
 "cells": [
  {
   "cell_type": "markdown",
   "id": "15ba5782",
   "metadata": {},
   "source": [
    "# PA5\n",
    "### Juan Ballas Marchant\n",
    "- Version 1.0\n",
    "- Fall 2023"
   ]
  },
  {
   "cell_type": "markdown",
   "id": "b45da7fa",
   "metadata": {},
   "source": [
    "## Task 1: Language Translator\n",
    "Write a program that implements a translation dictionary using a Python dictionary data structure that maps 10 English words to 10 words in another language (e.g. Spanish, German, Farsi, Arabic, Japanese, etc.). The keysin your dictionary should be in English (all lower case), and your values should be in your target language (also all lowercase). Your program should ask for words in English to translate to your target language until the user enters \n",
    "the number zero (0)."
   ]
  },
  {
   "cell_type": "markdown",
   "id": "fb470416",
   "metadata": {},
   "source": [
    "- Enter a word to translate from English to Irish (enter 0 to stop): couch\n",
    " Irish word for COUCH is outside this dictionary.\n",
    "- Enter a word to translate from English to Irish (enter 0 to stop): chair\n",
    "The Irish word for chair is CATHAOIR.\n",
    "- Enter a word to translate from English to Irish (enter 0 to stop)\n",
    ": cat\n",
    "The Irish word for CAT is not in this dictionary.\n",
    "- Enter a word to translate from English to Irish (enter 0 to stop)\n",
    ": dog\n",
    "The Irish word for DOG is not in this dictionary.\n",
    "- Enter a word to translate from English to Irish (enter 0 to stop)\n",
    ": 0\n",
    "\n",
    "All of the code should be contained in one cell in your Jupyter Notebook and hardcode the dictionary (no need to ask the user to fill the dictionary)."
   ]
  },
  {
   "cell_type": "code",
   "execution_count": 1,
   "id": "db915401",
   "metadata": {},
   "outputs": [
    {
     "name": "stdout",
     "output_type": "stream",
     "text": [
      "Enter a word to translate from Enlgish to Spanish (enter 0 to stop): Red.\n",
      "The Spanish word for RED is ROJO.\n",
      "Enter a word to translate from Enlgish to Spanish (enter 0 to stop): Blue.\n",
      "The Spanish word for BLUE is AZUL.\n",
      "Enter a word to translate from Enlgish to Spanish (enter 0 to stop): Yellow.\n",
      "The Spanish word for YELLOW is AMARILLO.\n",
      "Enter a word to translate from Enlgish to Spanish (enter 0 to stop): Black.\n",
      "The Spanish word for BLACK is NEGRO.\n",
      "Enter a word to translate from Enlgish to Spanish (enter 0 to stop): White.\n",
      "The Spanish word for WHITE is BLANCO.\n",
      "Enter a word to translate from Enlgish to Spanish (enter 0 to stop): Orange.\n",
      "The Spanish word for ORANGE is NARANJA.\n",
      "Enter a word to translate from Enlgish to Spanish (enter 0 to stop): Purple.\n",
      "The Spanish word for PURPLE is MORADO.\n",
      "Enter a word to translate from Enlgish to Spanish (enter 0 to stop): Green.\n",
      "The Spanish word for GREEN is VERDE.\n",
      "Enter a word to translate from Enlgish to Spanish (enter 0 to stop): Brown.\n",
      "The Spanish word for BROWN is CAFE.\n",
      "Enter a word to translate from Enlgish to Spanish (enter 0 to stop): Pink.\n",
      "The Spanish word for PINK is ROSA.\n"
     ]
    }
   ],
   "source": [
    "translator={'red':'rojo', 'blue':'azul', 'yellow':'amarillo', 'black':'negro', 'white':'blanco', 'orange':'naranja', 'purple':'morado', 'green':'verde', 'brown':'cafe', 'pink':'rosa'}\n",
    "for english,spanish in translator.items():\n",
    "    print(f\"Enter a word to translate from Enlgish to Spanish (enter 0 to stop): {english.title()}.\")\n",
    "    print(f\"The Spanish word for {english.upper()} is {spanish.upper()}.\")"
   ]
  },
  {
   "cell_type": "markdown",
   "id": "cc72877b",
   "metadata": {},
   "source": [
    "## Task 2: Temperature converter\n",
    "Create a dictionary named temp_dict containing the highest temperature in Fahrenheit for each day of September 2023 in Louisville, Kentucky. The keys will be the day of the month, and the values will be the temperature in Fahrenheit. Access each temperature value in Fahrenheit from the dictionary, convert it to Celsius using the formula (temperature - 32) * 5/9, and update the original dictionary with the Celsius value. Take help from the weather app to create a correct dictionary.\n",
    "\n",
    "- {Day1: 89, Day2: 76, ……….}\n"
   ]
  },
  {
   "cell_type": "code",
   "execution_count": 2,
   "id": "02c558df",
   "metadata": {},
   "outputs": [],
   "source": [
    "temp_dict={'Day1':88,'Day2':91,'Day3':92,'Day4':93,'Day5':90,'Day6':84,'Day7':77,'Day8':84, 'Day9':81,'Day10':84,\n",
    "          'Day11':87,'Day12':80, 'Day13':81,'Day14':82, 'Day15':81,'Day16':83, 'Day17':79,'Day18':80, 'Day19':81,'Day20':85,\n",
    "          'Day21':86,'Day22':89, 'Day23':83,'Day24':84, 'Day25':87,'Day26':89, 'Day27':83,'Day28':82, 'Day29':85,'Day30':86}"
   ]
  },
  {
   "cell_type": "code",
   "execution_count": 3,
   "id": "3974d892",
   "metadata": {},
   "outputs": [],
   "source": [
    "for day,temp in temp_dict.items():\n",
    "    temp_dict2=((temp-32)*5/9)\n",
    "    temp_dict[day]=temp_dict2"
   ]
  },
  {
   "cell_type": "code",
   "execution_count": 4,
   "id": "6672b26e",
   "metadata": {},
   "outputs": [
    {
     "name": "stdout",
     "output_type": "stream",
     "text": [
      "{'Day1': 31.11111111111111, 'Day2': 32.77777777777778, 'Day3': 33.333333333333336, 'Day4': 33.888888888888886, 'Day5': 32.22222222222222, 'Day6': 28.88888888888889, 'Day7': 25.0, 'Day8': 28.88888888888889, 'Day9': 27.22222222222222, 'Day10': 28.88888888888889, 'Day11': 30.555555555555557, 'Day12': 26.666666666666668, 'Day13': 27.22222222222222, 'Day14': 27.77777777777778, 'Day15': 27.22222222222222, 'Day16': 28.333333333333332, 'Day17': 26.11111111111111, 'Day18': 26.666666666666668, 'Day19': 27.22222222222222, 'Day20': 29.444444444444443, 'Day21': 30.0, 'Day22': 31.666666666666668, 'Day23': 28.333333333333332, 'Day24': 28.88888888888889, 'Day25': 30.555555555555557, 'Day26': 31.666666666666668, 'Day27': 28.333333333333332, 'Day28': 27.77777777777778, 'Day29': 29.444444444444443, 'Day30': 30.0}\n"
     ]
    }
   ],
   "source": [
    "print(temp_dict)"
   ]
  },
  {
   "cell_type": "markdown",
   "id": "0629cd5a",
   "metadata": {},
   "source": [
    "## Task 3\n",
    "Write a Python script to create a dictionary where the keys are numbers between 1 and 15 (both included) and the values are the squares of the keys."
   ]
  },
  {
   "cell_type": "code",
   "execution_count": 5,
   "id": "57cf0419",
   "metadata": {},
   "outputs": [],
   "source": [
    "number={}"
   ]
  },
  {
   "cell_type": "code",
   "execution_count": 6,
   "id": "b5aa98d0",
   "metadata": {},
   "outputs": [
    {
     "name": "stdout",
     "output_type": "stream",
     "text": [
      "{1: 1, 2: 4, 3: 9, 4: 16, 5: 25, 6: 36, 7: 49, 8: 64, 9: 81, 10: 100, 11: 121, 12: 144, 13: 169, 14: 196, 15: 225}\n"
     ]
    }
   ],
   "source": [
    "for x in range (1, 16):\n",
    "    number.update({x:x**2})\n",
    "print(number)"
   ]
  },
  {
   "cell_type": "markdown",
   "id": "221ff6c1",
   "metadata": {},
   "source": [
    "## Task 4: User Profile Dictionary\n",
    "Create a Python program that manages user profiles using a dictionary. Follow these steps:\n",
    "1. Create an empty dictionary named user_profiles to store user information.\n",
    "2. Implement a while loop that allows users to input their information. The loop should repeatedly ask the user to enter their name, age, email, and city. Add this information to the user_profiles dictionary.\n",
    "3. Add a break condition to exit the loop.\n",
    "4. Ask the user to input their information and add it to the dictionary.\n",
    "5. Allow the user to search for a specific user's profile by providing their name. If the user is found, display their profile; otherwise, show a message that the user is not found."
   ]
  },
  {
   "cell_type": "code",
   "execution_count": 1,
   "id": "840cb2ef",
   "metadata": {},
   "outputs": [],
   "source": [
    "user_profiles={}"
   ]
  },
  {
   "cell_type": "code",
   "execution_count": 2,
   "id": "a5373b0f",
   "metadata": {},
   "outputs": [
    {
     "name": "stdout",
     "output_type": "stream",
     "text": [
      "Enter your name: Juan Ballas\n",
      "Enter your age: 23\n",
      "Enter your email : jballasm@gmail.com\n",
      "Enter your city: Santiago,Chile\n",
      "Add another entry?(yes/no): yes\n",
      "Enter your name: Brentyn Dodd\n",
      "Enter your age: 22\n",
      "Enter your email : brentyn@gmail.com\n",
      "Enter your city: Savannah, GA\n",
      "Add another entry?(yes/no): no\n",
      "Thank you for adding to dictionary!\n",
      "{'Juan Ballas': 'Age: 23\\nEmail: jballasm@gmail.com\\nCity: Santiago,Chile', 'Brentyn Dodd': 'Age: 22\\nEmail: brentyn@gmail.com\\nCity: Savannah, GA'}\n"
     ]
    }
   ],
   "source": [
    "active=True\n",
    "while active:\n",
    "    prompt_keys=input('Enter your name: ')\n",
    "    prompt_age=input('Enter your age: ')\n",
    "    prompt_email=input('Enter your email : ')\n",
    "    prompt_city=input('Enter your city: ')\n",
    "    prompt_values=(f'Age: {prompt_age}\\n')+(f'Email: {prompt_email}\\n')+(f'City: {prompt_city}')\n",
    "    user_profiles.update({prompt_keys:prompt_values})\n",
    "    another=input('Add another entry?(yes/no): ')\n",
    "    if another=='no':\n",
    "        print('Thank you for adding to dictionary!')\n",
    "        break\n",
    "print(user_profiles)"
   ]
  },
  {
   "cell_type": "code",
   "execution_count": 3,
   "id": "2be7893b",
   "metadata": {},
   "outputs": [
    {
     "name": "stdout",
     "output_type": "stream",
     "text": [
      "Search name: Juan Ballas\n",
      "Age: 23\n",
      "Email: jballasm@gmail.com\n",
      "City: Santiago,Chile\n"
     ]
    }
   ],
   "source": [
    "search_name=input('Search name: ')\n",
    "if search_name in user_profiles.keys():\n",
    "    print(user_profiles[search_name])\n",
    "else:\n",
    "    print('User not found')"
   ]
  },
  {
   "cell_type": "code",
   "execution_count": 4,
   "id": "edf041ac",
   "metadata": {},
   "outputs": [
    {
     "name": "stdout",
     "output_type": "stream",
     "text": [
      "Search name: juan ballas\n",
      "User not found\n"
     ]
    }
   ],
   "source": [
    "search_name=input('Search name: ')\n",
    "if search_name in user_profiles.keys():\n",
    "    print(user_profiles[search_name])\n",
    "else:\n",
    "    print('User not found')"
   ]
  }
 ],
 "metadata": {
  "kernelspec": {
   "display_name": "Python 3 (ipykernel)",
   "language": "python",
   "name": "python3"
  },
  "language_info": {
   "codemirror_mode": {
    "name": "ipython",
    "version": 3
   },
   "file_extension": ".py",
   "mimetype": "text/x-python",
   "name": "python",
   "nbconvert_exporter": "python",
   "pygments_lexer": "ipython3",
   "version": "3.11.4"
  }
 },
 "nbformat": 4,
 "nbformat_minor": 5
}
